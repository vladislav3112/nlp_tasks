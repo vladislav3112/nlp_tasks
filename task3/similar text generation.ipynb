{
 "cells": [
  {
   "cell_type": "code",
   "execution_count": 47,
   "metadata": {},
   "outputs": [
    {
     "name": "stdout",
     "output_type": "stream",
     "text": [
      "Requirement already satisfied: sentencepiece in c:\\users\\laptop_user\\appdata\\local\\programs\\python\\python311\\lib\\site-packages (0.1.99)\n"
     ]
    },
    {
     "name": "stderr",
     "output_type": "stream",
     "text": [
      "\n",
      "[notice] A new release of pip is available: 23.2.1 -> 23.3.2\n",
      "[notice] To update, run: python.exe -m pip install --upgrade pip\n"
     ]
    }
   ],
   "source": [
    "!pip install sentencepiece"
   ]
  },
  {
   "cell_type": "code",
   "execution_count": 48,
   "metadata": {},
   "outputs": [],
   "source": [
    "import numpy as np\n",
    "from nltk.tokenize.treebank import TreebankWordDetokenizer\n",
    "from transformers import pipeline, AutoTokenizer\n",
    "from nltk.tokenize import wordpunct_tokenize\n",
    "mask_filler = pipeline(\"fill-mask\", 'distilbert-base-uncased')"
   ]
  },
  {
   "cell_type": "code",
   "execution_count": 49,
   "metadata": {},
   "outputs": [],
   "source": [
    "tokenizer = AutoTokenizer.from_pretrained('distilbert-base-uncased')"
   ]
  },
  {
   "cell_type": "markdown",
   "metadata": {},
   "source": [
    "#### Здесь описываются параметры и задается входное предложение:  "
   ]
  },
  {
   "cell_type": "code",
   "execution_count": 50,
   "metadata": {},
   "outputs": [],
   "source": [
    "SENT_NUM = 10\n",
    "TEMPERATURE = 0.05\n",
    "TOP_K = 5\n",
    "input_sent = \"After your workout, remember to focus on maintaining a good water balance.\"\n",
    "#input_sent = \"The latest tech news about the world's best (and sometimes worst) hardware, apps, and much more.\"\n",
    "#input_sent = \"Remember to drink enough water to restore and maintain your body's hydration after your cardio training.\""
   ]
  },
  {
   "cell_type": "code",
   "execution_count": 51,
   "metadata": {},
   "outputs": [],
   "source": [
    "WORDS_TO_REPLACE = len(wordpunct_tokenize(input_sent))//3\n",
    "input_sent = input_sent.lower()\n",
    "curr_res = input_sent\n",
    "detokenizer = TreebankWordDetokenizer()\n",
    "predicted_sentences = []\n",
    "for _ in range(SENT_NUM):\n",
    "    for _ in range(WORDS_TO_REPLACE):\n",
    "        words = wordpunct_tokenize(curr_res)\n",
    "        word_to_replace = np.random.randint(len(words))\n",
    "        words[word_to_replace] = tokenizer.mask_token\n",
    "        sequence = detokenizer.detokenize(words)\n",
    "        prediction = mask_filler(sequence, top_k=1)[0]\n",
    "        curr_res = prediction['sequence']\n",
    "        if prediction == words[word_to_replace-1]:\n",
    "            del words[word_to_replace]\n",
    "            curr_res = detokenizer.detokenize(words)\n",
    "        # если предсказываем токен = предыдущему слову -> убираем его:\n",
    "        # c вероятностью TEMPERATURE или пока предложение остается тем же возьмем predict на позиции [1 TOP_K), а не самый вероятный\n",
    "        if np.random.rand() < TEMPERATURE:\n",
    "            curr_res = mask_filler(sequence, top_k=TOP_K)[np.random.randint(1,TOP_K)]['sequence']\n",
    "        while curr_res == input_sent:\n",
    "            curr_res = mask_filler(sequence, top_k=TOP_K)[np.random.randint(1,TOP_K)]['sequence']\n",
    "    predicted_sentences.append(curr_res)\n",
    "    curr_res = input_sent"
   ]
  },
  {
   "cell_type": "code",
   "execution_count": 53,
   "metadata": {},
   "outputs": [
    {
     "data": {
      "text/plain": [
       "['enjoy your workout, caution : focus on maintaining a good water balance.',\n",
       " 'after your workout you remember to focus on maintaining reasonably good water flow.',\n",
       " 'enjoy your workout, remember to focus on maintaining a good physical balance!',\n",
       " 'after your workout, remember to concentrate, maintaining a good water balance.',\n",
       " 'after your shower you remember to focus on maintaining a good water balance.',\n",
       " 'after your workout you remember : focus on getting a good water balance.',\n",
       " 'after your workout, try to focus on maintaining fairly stable water balance.',\n",
       " 'after your workout, try to focus on maintaining a good water supply.',\n",
       " 'enjoy your bath, remember to focus on maintaining very good water balance.',\n",
       " 'after your shower, remember to focus on maintaining a good physical balance.']"
      ]
     },
     "execution_count": 53,
     "metadata": {},
     "output_type": "execute_result"
    }
   ],
   "source": [
    "predicted_sentences"
   ]
  }
 ],
 "metadata": {
  "kernelspec": {
   "display_name": "Python 3",
   "language": "python",
   "name": "python3"
  },
  "language_info": {
   "codemirror_mode": {
    "name": "ipython",
    "version": 3
   },
   "file_extension": ".py",
   "mimetype": "text/x-python",
   "name": "python",
   "nbconvert_exporter": "python",
   "pygments_lexer": "ipython3",
   "version": "3.11.6"
  }
 },
 "nbformat": 4,
 "nbformat_minor": 2
}
